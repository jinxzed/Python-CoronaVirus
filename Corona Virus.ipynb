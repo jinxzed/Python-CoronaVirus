{
 "cells": [
  {
   "cell_type": "markdown",
   "metadata": {},
   "source": [
    "## Corona Case Study"
   ]
  },
  {
   "cell_type": "code",
   "execution_count": 1,
   "metadata": {},
   "outputs": [],
   "source": [
    "import pandas as pd\n",
    "import numpy as np\n",
    "from matplotlib import pyplot as plt\n",
    "import geopandas as gpd"
   ]
  },
  {
   "cell_type": "code",
   "execution_count": 2,
   "metadata": {},
   "outputs": [],
   "source": [
    "covid = pd.read_csv('covid_confirmed_daily_updates.csv')\n",
    "covid_death = pd.read_csv('covid_deaths_daily_updates.csv')\n",
    "covid_recover = pd.read_csv('covid_recovered_daily_updates.csv')\n",
    "\n",
    "population = pd.read_csv('population.csv')\n",
    "#global population\n",
    "global_pop = pd.read_csv('Global Population.csv')\n",
    "\n",
    "change_country = {'Mainland China':'People\\'s Republic of China', 'US':'United States of America',\n",
    "                  'Congo (Kinshasa)': 'Democratic Republic of the Congo', 'Cote d\\'Ivoire':'Ivory Coast',\n",
    "                 'Czechia':'Czech Republic', 'Holy See':'Vatican City', 'Korea, South':'South Korea', 'Reunion':'Réunion'}\n",
    "\n",
    "covid = covid.rename(columns = {'Country/Region':'Country_Region'})\n",
    "covid_death = covid_death.rename(columns = {'Country/Region':'Country_Region'})\n",
    "covid_recover = covid_recover.rename(columns = {'Country/Region':'Country_Region'})\n",
    "\n",
    "for i in change_country:\n",
    "    covid.loc[covid['Country_Region']==i,'Country_Region'] = change_country[i]\n",
    "    covid_death.loc[covid_death['Country_Region']==i,'Country_Region'] = change_country[i]\n",
    "    covid_recover.loc[covid_recover['Country_Region']==i,'Country_Region'] = change_country[i]"
   ]
  },
  {
   "cell_type": "code",
   "execution_count": 33,
   "metadata": {
    "scrolled": false
   },
   "outputs": [],
   "source": [
    "# getting the confirmed/ deaths/ recovered data into format\n",
    "def convert_data(df):\n",
    "    test = df\n",
    "    test.set_index('Country_Region')\n",
    "    test = test.T\n",
    "    test.columns = test.loc['Country_Region']\n",
    "    test = test.drop('Country_Region')\n",
    "    test = test.reindex(sorted(test.columns), axis = 1)\n",
    "    test  = test.stack().reset_index(name = 'Confirmed')\n",
    "    return test\n",
    "\n",
    "covid_1 = convert_data(covid)\n",
    "covid_1.columns = ['Date','Country_Region','Confirmed']\n",
    "covid_death_1 = convert_data(covid_death)\n",
    "covid_death_1.columns = ['Date','Country_Region','Deaths']\n",
    "covid_recover_1 = convert_data(covid_recover)\n",
    "covid_recover_1.columns = ['Date','Country_Region','Recovered']"
   ]
  },
  {
   "cell_type": "code",
   "execution_count": null,
   "metadata": {},
   "outputs": [],
   "source": []
  },
  {
   "cell_type": "code",
   "execution_count": 4,
   "metadata": {
    "scrolled": false
   },
   "outputs": [],
   "source": [
    "#to update the population data if new countries added\n",
    "#import qwikidata\n",
    "#import qwikidata.sparql\n",
    "\n",
    "#for i in country:\n",
    "#    if i not in population['Country_Region'].values:\n",
    "#        print(i+\": \", end = '')\n",
    "#        query = \"\"\"\n",
    "#        SELECT ?countryLabel ?population WHERE {\n",
    "#          ?country rdfs:label \"%s\"@en .\n",
    "#          ?country wdt:P1082 ?population .\n",
    "#          ?country rdfs:label ?countryLabel .\n",
    "#          FILTER(LANG(?countryLabel) = \"en\") .\n",
    "#        }\n",
    "#        \"\"\"% (i)\n",
    "#\n",
    "#        result = qwikidata.sparql.return_sparql_query_results(query)\n",
    "#        pop = result['results']['bindings'][0]['population']['value']\n",
    "#        population = population.append({'Country_Region':i, 'Population': pop}, ignore_index = True)\n",
    "#\n",
    "#write the population data to a csv file\n",
    "#population.to_csv('population.csv', index = False)"
   ]
  },
  {
   "cell_type": "code",
   "execution_count": 5,
   "metadata": {
    "scrolled": true
   },
   "outputs": [],
   "source": [
    "#query = \"\"\"\n",
    "#        SELECT DISTINCT ?countryLabel ?population\n",
    "#        {\n",
    "#          ?country wdt:P31 wd:Q6256 ;\n",
    "#          wdt:P1082 ?population .\n",
    "#          SERVICE wikibase:label { bd:serviceParam wikibase:language \"en\" }\n",
    "#        }\n",
    "#        GROUP BY ?population ?countryLabel\n",
    "#        ORDER BY DESC(?population)\n",
    "#        \"\"\"\n",
    "\n",
    "#result = qwikidata.sparql.return_sparql_query_results(query)\n",
    "\n",
    "#for i in result['results']['bindings']:\n",
    "#    country = i['countryLabel']['value']\n",
    "#    population = i['population']['value']\n",
    "#    \n",
    "#    if country not in global_pop['Country']:\n",
    "#        if population != int(global_pop.loc[(global_pop['Country_Region']==country),'Population']):\n",
    "#            \n",
    "#            global_pop.loc[(global_pop['Country_Region']==country),'Population'] = population\n",
    "#\n",
    "#write the population data to a csv file\n",
    "#global_pop.to_csv('Global Population.csv', index = False)"
   ]
  },
  {
   "cell_type": "code",
   "execution_count": 6,
   "metadata": {},
   "outputs": [
    {
     "data": {
      "text/plain": [
       "((125, 53), (125, 53), (125, 53))"
      ]
     },
     "execution_count": 6,
     "metadata": {},
     "output_type": "execute_result"
    }
   ],
   "source": [
    "covid.shape, covid_death.shape, covid_recover.shape"
   ]
  },
  {
   "cell_type": "code",
   "execution_count": 7,
   "metadata": {},
   "outputs": [],
   "source": [
    "country = covid['Country_Region']\n",
    "dates = pd.to_datetime(covid.columns[1:], format = '%m/%d/%y')\n",
    "\n",
    "covid19_confirmed = pd.DataFrame(0,columns = country, index = dates)\n",
    "covid19_death = pd.DataFrame(0,columns = country, index = dates)\n",
    "covid19_recover = pd.DataFrame(0,columns = country, index = dates)"
   ]
  },
  {
   "cell_type": "code",
   "execution_count": null,
   "metadata": {},
   "outputs": [],
   "source": []
  },
  {
   "cell_type": "code",
   "execution_count": 8,
   "metadata": {},
   "outputs": [],
   "source": [
    "for i in country:\n",
    "    temp = covid[covid['Country_Region']==i].T[1:]\n",
    "    temp.index = dates\n",
    "    covid19_confirmed[i] = temp\n",
    "\n",
    "for i in country:\n",
    "    temp = covid_death[covid_death['Country_Region']==i].T[1:]\n",
    "    temp.index = dates\n",
    "    covid19_death[i] = temp\n",
    "\n",
    "for i in country:\n",
    "    temp = covid_recover[covid_recover['Country_Region']==i].T[1:]\n",
    "    temp.index = dates\n",
    "    covid19_recover[i] = temp"
   ]
  },
  {
   "cell_type": "code",
   "execution_count": 9,
   "metadata": {},
   "outputs": [],
   "source": [
    "confirmed = covid19_confirmed.iloc[-1,:]\n",
    "death = covid19_death.iloc[-1,:]\n",
    "recover = covid19_recover.iloc[-1,:]"
   ]
  },
  {
   "cell_type": "code",
   "execution_count": 10,
   "metadata": {},
   "outputs": [],
   "source": [
    "total = pd.DataFrame({'Country':covid['Country_Region'], 'Confirmed':confirmed.values, \n",
    "                      'Deaths': death.values, 'Recovered': recover.values})"
   ]
  },
  {
   "cell_type": "code",
   "execution_count": 11,
   "metadata": {
    "scrolled": false
   },
   "outputs": [],
   "source": [
    "final = pd.DataFrame()\n",
    "\n",
    "#for i in covid.columns[1:]:\n",
    "#    for j in country:\n",
    "#        final = final.append({'Country_Region':j,\n",
    "#                              'Date':i,\n",
    "#                              'Confirmed':covid.loc[covid['Country_Region']==j,i],\n",
    "#                              'Deaths':covid_death.loc[covid_death['Country_Region']==j,i],\n",
    "#                              'Recovered':covid_recover.loc[covid_recover['Country_Region']==j,i]},\n",
    "#                              ignore_index = True)"
   ]
  },
  {
   "cell_type": "code",
   "execution_count": 12,
   "metadata": {},
   "outputs": [
    {
     "data": {
      "text/html": [
       "<div>\n",
       "<style scoped>\n",
       "    .dataframe tbody tr th:only-of-type {\n",
       "        vertical-align: middle;\n",
       "    }\n",
       "\n",
       "    .dataframe tbody tr th {\n",
       "        vertical-align: top;\n",
       "    }\n",
       "\n",
       "    .dataframe thead th {\n",
       "        text-align: right;\n",
       "    }\n",
       "</style>\n",
       "<table border=\"1\" class=\"dataframe\">\n",
       "  <thead>\n",
       "    <tr style=\"text-align: right;\">\n",
       "      <th></th>\n",
       "      <th>Date</th>\n",
       "      <th>Country_Region</th>\n",
       "      <th>Confirmed</th>\n",
       "      <th>Deaths</th>\n",
       "      <th>Recovered</th>\n",
       "    </tr>\n",
       "  </thead>\n",
       "  <tbody>\n",
       "    <tr>\n",
       "      <td>0</td>\n",
       "      <td>1/22/20</td>\n",
       "      <td>Afghanistan</td>\n",
       "      <td>0</td>\n",
       "      <td>0</td>\n",
       "      <td>0</td>\n",
       "    </tr>\n",
       "    <tr>\n",
       "      <td>1</td>\n",
       "      <td>1/22/20</td>\n",
       "      <td>Albania</td>\n",
       "      <td>0</td>\n",
       "      <td>0</td>\n",
       "      <td>0</td>\n",
       "    </tr>\n",
       "    <tr>\n",
       "      <td>2</td>\n",
       "      <td>1/22/20</td>\n",
       "      <td>Algeria</td>\n",
       "      <td>0</td>\n",
       "      <td>0</td>\n",
       "      <td>0</td>\n",
       "    </tr>\n",
       "    <tr>\n",
       "      <td>3</td>\n",
       "      <td>1/22/20</td>\n",
       "      <td>Andorra</td>\n",
       "      <td>0</td>\n",
       "      <td>0</td>\n",
       "      <td>0</td>\n",
       "    </tr>\n",
       "    <tr>\n",
       "      <td>4</td>\n",
       "      <td>1/22/20</td>\n",
       "      <td>Antigua and Barbuda</td>\n",
       "      <td>0</td>\n",
       "      <td>0</td>\n",
       "      <td>0</td>\n",
       "    </tr>\n",
       "    <tr>\n",
       "      <td>...</td>\n",
       "      <td>...</td>\n",
       "      <td>...</td>\n",
       "      <td>...</td>\n",
       "      <td>...</td>\n",
       "      <td>...</td>\n",
       "    </tr>\n",
       "    <tr>\n",
       "      <td>6495</td>\n",
       "      <td>3/13/20</td>\n",
       "      <td>United Arab Emirates</td>\n",
       "      <td>85</td>\n",
       "      <td>0</td>\n",
       "      <td>17</td>\n",
       "    </tr>\n",
       "    <tr>\n",
       "      <td>6496</td>\n",
       "      <td>3/13/20</td>\n",
       "      <td>United Kingdom</td>\n",
       "      <td>801</td>\n",
       "      <td>8</td>\n",
       "      <td>19</td>\n",
       "    </tr>\n",
       "    <tr>\n",
       "      <td>6497</td>\n",
       "      <td>3/13/20</td>\n",
       "      <td>United States of America</td>\n",
       "      <td>2179</td>\n",
       "      <td>47</td>\n",
       "      <td>12</td>\n",
       "    </tr>\n",
       "    <tr>\n",
       "      <td>6498</td>\n",
       "      <td>3/13/20</td>\n",
       "      <td>Vatican City</td>\n",
       "      <td>1</td>\n",
       "      <td>0</td>\n",
       "      <td>0</td>\n",
       "    </tr>\n",
       "    <tr>\n",
       "      <td>6499</td>\n",
       "      <td>3/13/20</td>\n",
       "      <td>Vietnam</td>\n",
       "      <td>47</td>\n",
       "      <td>0</td>\n",
       "      <td>16</td>\n",
       "    </tr>\n",
       "  </tbody>\n",
       "</table>\n",
       "<p>6500 rows × 5 columns</p>\n",
       "</div>"
      ],
      "text/plain": [
       "         Date            Country_Region Confirmed Deaths Recovered\n",
       "0     1/22/20               Afghanistan         0      0         0\n",
       "1     1/22/20                   Albania         0      0         0\n",
       "2     1/22/20                   Algeria         0      0         0\n",
       "3     1/22/20                   Andorra         0      0         0\n",
       "4     1/22/20       Antigua and Barbuda         0      0         0\n",
       "...       ...                       ...       ...    ...       ...\n",
       "6495  3/13/20      United Arab Emirates        85      0        17\n",
       "6496  3/13/20            United Kingdom       801      8        19\n",
       "6497  3/13/20  United States of America      2179     47        12\n",
       "6498  3/13/20              Vatican City         1      0         0\n",
       "6499  3/13/20                   Vietnam        47      0        16\n",
       "\n",
       "[6500 rows x 5 columns]"
      ]
     },
     "execution_count": 12,
     "metadata": {},
     "output_type": "execute_result"
    }
   ],
   "source": [
    "final = covid_1.merge(covid_death_1, on = ['Date','Country_Region'])\n",
    "final = final.merge(covid_recover_1, on = ['Date','Country_Region'])\n",
    "final"
   ]
  },
  {
   "cell_type": "code",
   "execution_count": 13,
   "metadata": {
    "scrolled": false
   },
   "outputs": [
    {
     "data": {
      "text/html": [
       "<div>\n",
       "<style scoped>\n",
       "    .dataframe tbody tr th:only-of-type {\n",
       "        vertical-align: middle;\n",
       "    }\n",
       "\n",
       "    .dataframe tbody tr th {\n",
       "        vertical-align: top;\n",
       "    }\n",
       "\n",
       "    .dataframe thead th {\n",
       "        text-align: right;\n",
       "    }\n",
       "</style>\n",
       "<table border=\"1\" class=\"dataframe\">\n",
       "  <thead>\n",
       "    <tr style=\"text-align: right;\">\n",
       "      <th></th>\n",
       "      <th>Country_Region</th>\n",
       "      <th>Date</th>\n",
       "      <th>Confirmed</th>\n",
       "      <th>Deaths</th>\n",
       "      <th>Recovered</th>\n",
       "    </tr>\n",
       "  </thead>\n",
       "  <tbody>\n",
       "    <tr>\n",
       "      <td>0</td>\n",
       "      <td>Afghanistan</td>\n",
       "      <td>1/22/20</td>\n",
       "      <td>0</td>\n",
       "      <td>0</td>\n",
       "      <td>0</td>\n",
       "    </tr>\n",
       "    <tr>\n",
       "      <td>1</td>\n",
       "      <td>Albania</td>\n",
       "      <td>1/22/20</td>\n",
       "      <td>0</td>\n",
       "      <td>0</td>\n",
       "      <td>0</td>\n",
       "    </tr>\n",
       "    <tr>\n",
       "      <td>2</td>\n",
       "      <td>Algeria</td>\n",
       "      <td>1/22/20</td>\n",
       "      <td>0</td>\n",
       "      <td>0</td>\n",
       "      <td>0</td>\n",
       "    </tr>\n",
       "    <tr>\n",
       "      <td>3</td>\n",
       "      <td>Andorra</td>\n",
       "      <td>1/22/20</td>\n",
       "      <td>0</td>\n",
       "      <td>0</td>\n",
       "      <td>0</td>\n",
       "    </tr>\n",
       "    <tr>\n",
       "      <td>4</td>\n",
       "      <td>Antigua and Barbuda</td>\n",
       "      <td>1/22/20</td>\n",
       "      <td>0</td>\n",
       "      <td>0</td>\n",
       "      <td>0</td>\n",
       "    </tr>\n",
       "    <tr>\n",
       "      <td>...</td>\n",
       "      <td>...</td>\n",
       "      <td>...</td>\n",
       "      <td>...</td>\n",
       "      <td>...</td>\n",
       "      <td>...</td>\n",
       "    </tr>\n",
       "    <tr>\n",
       "      <td>6495</td>\n",
       "      <td>United Arab Emirates</td>\n",
       "      <td>3/13/20</td>\n",
       "      <td>85</td>\n",
       "      <td>0</td>\n",
       "      <td>17</td>\n",
       "    </tr>\n",
       "    <tr>\n",
       "      <td>6496</td>\n",
       "      <td>United Kingdom</td>\n",
       "      <td>3/13/20</td>\n",
       "      <td>801</td>\n",
       "      <td>8</td>\n",
       "      <td>19</td>\n",
       "    </tr>\n",
       "    <tr>\n",
       "      <td>6497</td>\n",
       "      <td>United States of America</td>\n",
       "      <td>3/13/20</td>\n",
       "      <td>2179</td>\n",
       "      <td>47</td>\n",
       "      <td>12</td>\n",
       "    </tr>\n",
       "    <tr>\n",
       "      <td>6498</td>\n",
       "      <td>Vatican City</td>\n",
       "      <td>3/13/20</td>\n",
       "      <td>1</td>\n",
       "      <td>0</td>\n",
       "      <td>0</td>\n",
       "    </tr>\n",
       "    <tr>\n",
       "      <td>6499</td>\n",
       "      <td>Vietnam</td>\n",
       "      <td>3/13/20</td>\n",
       "      <td>47</td>\n",
       "      <td>0</td>\n",
       "      <td>16</td>\n",
       "    </tr>\n",
       "  </tbody>\n",
       "</table>\n",
       "<p>6500 rows × 5 columns</p>\n",
       "</div>"
      ],
      "text/plain": [
       "                Country_Region     Date  Confirmed  Deaths  Recovered\n",
       "0                  Afghanistan  1/22/20          0       0          0\n",
       "1                      Albania  1/22/20          0       0          0\n",
       "2                      Algeria  1/22/20          0       0          0\n",
       "3                      Andorra  1/22/20          0       0          0\n",
       "4          Antigua and Barbuda  1/22/20          0       0          0\n",
       "...                        ...      ...        ...     ...        ...\n",
       "6495      United Arab Emirates  3/13/20         85       0         17\n",
       "6496            United Kingdom  3/13/20        801       8         19\n",
       "6497  United States of America  3/13/20       2179      47         12\n",
       "6498              Vatican City  3/13/20          1       0          0\n",
       "6499                   Vietnam  3/13/20         47       0         16\n",
       "\n",
       "[6500 rows x 5 columns]"
      ]
     },
     "execution_count": 13,
     "metadata": {},
     "output_type": "execute_result"
    }
   ],
   "source": [
    "final['Confirmed'] = final['Confirmed'].astype(int)\n",
    "final['Deaths'] = final['Deaths'].astype(int)\n",
    "final['Recovered'] = final['Recovered'].astype(int)\n",
    "final = final[['Country_Region','Date','Confirmed','Deaths','Recovered']]\n",
    "final"
   ]
  },
  {
   "cell_type": "code",
   "execution_count": 14,
   "metadata": {
    "scrolled": false
   },
   "outputs": [
    {
     "data": {
      "image/png": "[encoded data removed]",
      "text/plain": [
       "<Figure size 864x288 with 2 Axes>"
      ]
     },
     "metadata": {
      "needs_background": "light"
     },
     "output_type": "display_data"
    }
   ],
   "source": [
    "select = ['Date','Confirmed','Deaths','Recovered']\n",
    "india = final[(final['Country_Region']=='India')][select]\n",
    "india['Date'] = pd.to_datetime(india['Date'], format = '%m/%d/%y')\n",
    "india.set_index('Date', inplace= True)\n",
    "\n",
    "us = final[(final['Country_Region']=='United States of America')][select]\n",
    "us['Date'] = pd.to_datetime(us['Date'], format = '%m/%d/%y')\n",
    "us.set_index('Date', inplace= True)\n",
    "\n",
    "fig, ax = plt.subplots(1,2, figsize=(12,4))\n",
    "\n",
    "india.plot(ax = ax[0])\n",
    "ax[0].set_title('Corona Virus Italy Growth')\n",
    "us.plot(ax = ax[1])\n",
    "ax[1].set_title('Corona Virus US Growth')\n",
    "\n",
    "plt.show()"
   ]
  },
  {
   "cell_type": "code",
   "execution_count": 15,
   "metadata": {
    "scrolled": false
   },
   "outputs": [
    {
     "data": {
      "image/png": "[encoded data removed]",
      "text/plain": [
       "<Figure size 864x360 with 1 Axes>"
      ]
     },
     "metadata": {
      "needs_background": "light"
     },
     "output_type": "display_data"
    }
   ],
   "source": [
    "data = final.groupby('Date')[['Confirmed','Deaths','Recovered']].max()\n",
    "data.index = pd.to_datetime(data.index, format = '%m/%d/%y')\n",
    "\n",
    "fix, ax = plt.subplots(1,1, figsize = (12,5))\n",
    "data.plot(ax = ax)\n",
    "ax.set_title('Corona Virus Spread in World')\n",
    "#ax.set_xticks(['2020/01/27','2020/02/05'],minor = True)\n",
    "plt.show()"
   ]
  },
  {
   "cell_type": "code",
   "execution_count": 16,
   "metadata": {},
   "outputs": [],
   "source": [
    "train = final[['Date', 'Country_Region', 'Confirmed']].copy()\n",
    "\n",
    "train['Date'] = pd.to_datetime(train['Date'], format = '%m/%d/%y')\n",
    "train = train.sort_values(['Country_Region','Date'])\n",
    "train = train.reset_index(drop = True)\n",
    "\n",
    "# add one day more for prediction\n",
    "for i in range(1,len(train)+1):\n",
    "    if(train.iloc[i,1] is not train.iloc[i-1,1]):\n",
    "        train.loc[len(train)+1,['Date','Country_Region','Confirmed']] = [train.iloc[i-1,0]+ pd.DateOffset(1),train.iloc[i-1,1], 0]\n",
    "\n",
    "train = train.sort_values(['Country_Region','Date'])\n",
    "train = train.reset_index(drop = True)"
   ]
  },
  {
   "cell_type": "code",
   "execution_count": 17,
   "metadata": {},
   "outputs": [
    {
     "name": "stderr",
     "output_type": "stream",
     "text": [
      "C:\\ProgramData\\Anaconda3\\lib\\site-packages\\ipykernel_launcher.py:8: RuntimeWarning: invalid value encountered in double_scalars\n",
      "  \n",
      "C:\\ProgramData\\Anaconda3\\lib\\site-packages\\ipykernel_launcher.py:13: RuntimeWarning: invalid value encountered in double_scalars\n",
      "  del sys.path[0]\n",
      "C:\\ProgramData\\Anaconda3\\lib\\site-packages\\ipykernel_launcher.py:17: RuntimeWarning: invalid value encountered in double_scalars\n",
      "C:\\ProgramData\\Anaconda3\\lib\\site-packages\\ipykernel_launcher.py:8: RuntimeWarning: divide by zero encountered in double_scalars\n",
      "  \n",
      "C:\\ProgramData\\Anaconda3\\lib\\site-packages\\ipykernel_launcher.py:13: RuntimeWarning: divide by zero encountered in double_scalars\n",
      "  del sys.path[0]\n",
      "C:\\ProgramData\\Anaconda3\\lib\\site-packages\\ipykernel_launcher.py:17: RuntimeWarning: divide by zero encountered in double_scalars\n"
     ]
    }
   ],
   "source": [
    "train['1_day_change']=train['3_day_change']=train['7_day_change']=0\n",
    "train['1_day_change_rate']=train['3_day_change_rate']=train['7_day_change_rate']=0\n",
    "train['last_day']=0\n",
    "\n",
    "for i in range(train.shape[0]):\n",
    "    if(train.iloc[i,1] is train.iloc[i-2,1]):\n",
    "        train.iloc[i,3] = train.iloc[i-1,2]-train.iloc[i-2,2]\n",
    "        train.iloc[i,6] = (train.iloc[i-1,2]/train.iloc[i-2,2] - 1)*100\n",
    "        train.iloc[i,9] = train.iloc[i-1,2]\n",
    "    \n",
    "    if(train.iloc[i,1] is train.iloc[i-4,1]):\n",
    "        train.iloc[i,4] = train.iloc[i-1,2]-train.iloc[i-4,2]\n",
    "        train.iloc[i,7] = (train.iloc[i-1,2]/train.iloc[i-4,2] - 1)*100\n",
    "    \n",
    "    if(train.iloc[i,1] is train.iloc[i-8,1]):\n",
    "        train.iloc[i,5] = train.iloc[i-1,2]-train.iloc[i-8,2]\n",
    "        train.iloc[i,8] = (train.iloc[i-1,2]/train.iloc[i-8,2] - 1)*100\n",
    "\n",
    "train = train.fillna(0)"
   ]
  },
  {
   "cell_type": "code",
   "execution_count": 34,
   "metadata": {},
   "outputs": [],
   "source": [
    "train = train.replace([np.Inf, -np.Inf], 0)\n",
    "train = train.merge(population, on = 'Country_Region')"
   ]
  },
  {
   "cell_type": "code",
   "execution_count": 35,
   "metadata": {},
   "outputs": [],
   "source": [
    "#multiplied with 10000 to take a significant value\n",
    "train['infected_rate'] = train['last_day']/train['Population'] * 10000\n",
    "#train[train['infected_rate']==train['infected_rate'].max()]\n",
    "#display(train.describe())"
   ]
  },
  {
   "cell_type": "code",
   "execution_count": 36,
   "metadata": {},
   "outputs": [],
   "source": [
    "from sklearn.linear_model import LinearRegression\n",
    "from sklearn.metrics import mean_absolute_error, mean_squared_error, mean_squared_log_error\n",
    "lr = LinearRegression()"
   ]
  },
  {
   "cell_type": "code",
   "execution_count": 37,
   "metadata": {},
   "outputs": [
    {
     "data": {
      "text/plain": [
       "Index(['Date', 'Country_Region', 'Confirmed', '1_day_change', '3_day_change',\n",
       "       '7_day_change', '1_day_change_rate', '3_day_change_rate',\n",
       "       '7_day_change_rate', 'last_day', 'Population', 'infected_rate'],\n",
       "      dtype='object')"
      ]
     },
     "execution_count": 37,
     "metadata": {},
     "output_type": "execute_result"
    }
   ],
   "source": [
    "col = [#'Date', 'Country',\n",
    "        'infected_rate','1_day_change', '3_day_change','7_day_change',\n",
    "       '1_day_change_rate', '3_day_change_rate',\n",
    "        '7_day_change_rate', 'last_day']\n",
    "train.columns"
   ]
  },
  {
   "cell_type": "code",
   "execution_count": 38,
   "metadata": {},
   "outputs": [],
   "source": [
    "x_train = train[train['Date']<='2020-02-10']\n",
    "y_train = train[train['Date']<='2020-02-10']\n",
    "x_test = train[train['Date']>'2020-02-10']\n",
    "y_test = train[train['Date']>'2020-02-10']"
   ]
  },
  {
   "cell_type": "code",
   "execution_count": 39,
   "metadata": {},
   "outputs": [
    {
     "data": {
      "text/plain": [
       "((2500, 12), (4125, 12), (2500, 12), (4125, 12))"
      ]
     },
     "execution_count": 39,
     "metadata": {},
     "output_type": "execute_result"
    }
   ],
   "source": [
    "x_train.shape, x_test.shape, y_train.shape, y_test.shape"
   ]
  },
  {
   "cell_type": "code",
   "execution_count": 40,
   "metadata": {},
   "outputs": [
    {
     "data": {
      "text/plain": [
       "LinearRegression(copy_X=True, fit_intercept=True, n_jobs=None, normalize=False)"
      ]
     },
     "execution_count": 40,
     "metadata": {},
     "output_type": "execute_result"
    }
   ],
   "source": [
    "lr.fit(x_train[col], y_train['Confirmed'])"
   ]
  },
  {
   "cell_type": "code",
   "execution_count": 41,
   "metadata": {},
   "outputs": [],
   "source": [
    "pred = lr.predict(x_test[col])\n",
    "pred = pd.DataFrame(pred)\n",
    "pred.columns = ['Confirmed_Pred']\n",
    "pred['Date'] = y_test['Date'].values\n",
    "pred['Country_Region'] = y_test['Country_Region'].values\n",
    "pred['Confirmed'] = y_test['Confirmed'].values\n",
    "pred = pred.sort_values(['Country_Region','Date'])\n",
    "pred = pred.reset_index(drop = True)"
   ]
  },
  {
   "cell_type": "code",
   "execution_count": 42,
   "metadata": {},
   "outputs": [
    {
     "data": {
      "text/plain": [
       "469.86810844519374"
      ]
     },
     "execution_count": 42,
     "metadata": {},
     "output_type": "execute_result"
    }
   ],
   "source": [
    "np.sqrt(mean_squared_error(pred[pred['Date']<'2020-03-14']['Confirmed'], pred[pred['Date']<'2020-03-14']['Confirmed_Pred']))"
   ]
  },
  {
   "cell_type": "code",
   "execution_count": 43,
   "metadata": {},
   "outputs": [
    {
     "data": {
      "image/png": "[encoded data removed]",
      "text/plain": [
       "<Figure size 720x432 with 1 Axes>"
      ]
     },
     "metadata": {
      "needs_background": "light"
     },
     "output_type": "display_data"
    }
   ],
   "source": [
    "plt.figure(figsize = (10,6))\n",
    "plt.plot(pred['Confirmed_Pred'])\n",
    "plt.plot(y_test['Confirmed'].reset_index(drop= True))\n",
    "plt.show()"
   ]
  },
  {
   "cell_type": "code",
   "execution_count": 44,
   "metadata": {},
   "outputs": [],
   "source": [
    "import statsmodels.api as sm\n",
    "from statsmodels.formula.api import ols"
   ]
  },
  {
   "cell_type": "code",
   "execution_count": 45,
   "metadata": {},
   "outputs": [
    {
     "data": {
      "text/plain": [
       "Index(['Date', 'Country_Region', 'Confirmed', 'o', 't', 's', 'oo', 'tt', 'ss',\n",
       "       'last_day', 'Population', 'infected_rate'],\n",
       "      dtype='object')"
      ]
     },
     "execution_count": 45,
     "metadata": {},
     "output_type": "execute_result"
    }
   ],
   "source": [
    "train1 = train.copy()\n",
    "train1.rename(columns={'1_day_change':'o', '3_day_change':'t','7_day_change':'s',\n",
    "                       '1_day_change_rate':'oo', '3_day_change_rate':'tt','7_day_change_rate':'ss'},inplace = True)\n",
    "train1.columns"
   ]
  },
  {
   "cell_type": "code",
   "execution_count": 226,
   "metadata": {
    "scrolled": false
   },
   "outputs": [],
   "source": [
    "#model = ols('Confirmed~infected_rate+o+t+s+last_day+oo+tt+ss',data = train1).fit()\n",
    "#model.summary()"
   ]
  },
  {
   "cell_type": "code",
   "execution_count": 227,
   "metadata": {},
   "outputs": [],
   "source": [
    "#sm.stats.anova_lm(model)"
   ]
  },
  {
   "cell_type": "code",
   "execution_count": 48,
   "metadata": {},
   "outputs": [
    {
     "data": {
      "image/png": "[encoded data removed]",
      "text/plain": [
       "<Figure size 432x288 with 1 Axes>"
      ]
     },
     "metadata": {
      "needs_background": "light"
     },
     "output_type": "display_data"
    }
   ],
   "source": [
    "plt.plot(pred[pred['Date']<'2020-03-10']['Confirmed_Pred'])\n",
    "plt.plot(pred[pred['Date']<'2020-03-10']['Confirmed'])\n",
    "plt.show()"
   ]
  },
  {
   "cell_type": "code",
   "execution_count": 49,
   "metadata": {},
   "outputs": [
    {
     "data": {
      "image/png": "[encoded data removed]",
      "text/plain": [
       "<Figure size 1080x432 with 1 Axes>"
      ]
     },
     "metadata": {
      "needs_background": "light"
     },
     "output_type": "display_data"
    }
   ],
   "source": [
    "plt.figure(figsize = (15,6))\n",
    "plt.scatter(pred[pred['Date']<'2020-03-10']['Date'],pred[pred['Date']<'2020-03-10']['Confirmed_Pred'],label = 'pred')\n",
    "plt.scatter(pred[pred['Date']<'2020-03-10']['Date'],pred[pred['Date']<'2020-03-10']['Confirmed'], label = 'actual')\n",
    "plt.legend()\n",
    "plt.show()"
   ]
  },
  {
   "cell_type": "code",
   "execution_count": 50,
   "metadata": {},
   "outputs": [
    {
     "data": {
      "image/png": "[encoded data removed]",
      "text/plain": [
       "<Figure size 1080x288 with 2 Axes>"
      ]
     },
     "metadata": {
      "needs_background": "light"
     },
     "output_type": "display_data"
    }
   ],
   "source": [
    "fig, ax = plt.subplots(1,2, figsize = (15,4))\n",
    "ax[0].plot(pred[pred['Date']<'2020-03-14']['Confirmed_Pred'],label = 'pred')\n",
    "ax[1].plot(pred[pred['Date']<'2020-03-14']['Confirmed'], label = 'actual')\n",
    "plt.legend()\n",
    "plt.show()"
   ]
  },
  {
   "cell_type": "code",
   "execution_count": 51,
   "metadata": {},
   "outputs": [
    {
     "data": {
      "image/png": "[encoded data removed]",
      "text/plain": [
       "<Figure size 1080x288 with 2 Axes>"
      ]
     },
     "metadata": {
      "needs_background": "light"
     },
     "output_type": "display_data"
    }
   ],
   "source": [
    "fig, ax = plt.subplots(1,2, figsize = (15,4))\n",
    "ax[0].plot(pred[pred['Date']>='2020-03-14']['Confirmed_Pred'],label = 'pred')\n",
    "ax[1].plot(pred[pred['Date']>='2020-03-14']['Confirmed'], label = 'actual')\n",
    "plt.legend()\n",
    "plt.show()"
   ]
  },
  {
   "cell_type": "code",
   "execution_count": null,
   "metadata": {},
   "outputs": [],
   "source": []
  },
  {
   "cell_type": "code",
   "execution_count": null,
   "metadata": {},
   "outputs": [],
   "source": []
  }
 ],
 "metadata": {
  "kernelspec": {
   "display_name": "Python 3",
   "language": "python",
   "name": "python3"
  },
  "language_info": {
   "codemirror_mode": {
    "name": "ipython",
    "version": 3
   },
   "file_extension": ".py",
   "mimetype": "text/x-python",
   "name": "python",
   "nbconvert_exporter": "python",
   "pygments_lexer": "ipython3",
   "version": "3.7.4"
  }
 },
 "nbformat": 4,
 "nbformat_minor": 2
}
